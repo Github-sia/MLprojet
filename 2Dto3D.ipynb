{
  "nbformat": 4,
  "nbformat_minor": 0,
  "metadata": {
    "colab": {
      "name": "2Dto3D.ipynb",
      "provenance": [],
      "collapsed_sections": [],
      "authorship_tag": "ABX9TyOBaXLElqWpzVo79WJTjoPf",
      "include_colab_link": true
    },
    "kernelspec": {
      "name": "python3",
      "display_name": "Python 3"
    }
  },
  "cells": [
    {
      "cell_type": "markdown",
      "metadata": {
        "id": "view-in-github",
        "colab_type": "text"
      },
      "source": [
        "<a href=\"https://colab.research.google.com/github/Github-sia/MLprojet/blob/master/2Dto3D.ipynb\" target=\"_parent\"><img src=\"https://colab.research.google.com/assets/colab-badge.svg\" alt=\"Open In Colab\"/></a>"
      ]
    },
    {
      "cell_type": "code",
      "metadata": {
        "id": "SRb04MQwKQZW",
        "colab_type": "code",
        "colab": {}
      },
      "source": [
        "import face_alignment\n",
        "from skimage import io\n",
        "\n",
        "fa = face_alignment.FaceAlignment(face_alignment.LandmarksType._2D, flip_input=False)"
      ],
      "execution_count": 0,
      "outputs": []
    },
    {
      "cell_type": "code",
      "metadata": {
        "id": "64sI4EpVUXUp",
        "colab_type": "code",
        "colab": {}
      },
      "source": [
        "preds = fa.get_landmarks(oriimg)\n",
        "if preds is not None:\n",
        "  if len(preds)==1:\n",
        "    id=id+1\n",
        "    f= open(pts_file_path,\"w+\")\n",
        "    f.write(\"version: 1\\n\")\n",
        "    f.write(\"n_points: 68\\n\")\n",
        "    f.write(\"{\\n\")\n",
        "    for i in range (0,len(preds[0])):\n",
        "      f.write(str(preds[0][i][0]) + \" \" + str(preds[0][i][0]) + \"\\n\")\n",
        "\n",
        "    f.write(\"}\\n\")"
      ],
      "execution_count": 0,
      "outputs": []
    },
    {
      "cell_type": "code",
      "metadata": {
        "id": "JTAOHnVBWQKj",
        "colab_type": "code",
        "colab": {}
      },
      "source": [
        "landmarks = read_pts(pts_file_path)\n",
        "image = cv2.imread(imagepath)\n",
        "height, width = image.shape[:2]\n",
        "image_width = width\n",
        "image_height = height\n",
        "\n",
        "model = eos.morphablemodel.load_model(dirpath + \"/share/sfm_shape_3448.bin\")\n",
        "morphablemodelObj =eos.morphablemodel.MorphableModel(model.get_shape_model(), blendshapes,\n",
        "                                                     clor_model=eos.morphablemodel.PcaModel(),vertex_definitions=None, texture_coordinates=model.get_texture_coordinates())\n",
        "landmarkMapper = eos.core.LandmarkMapper(dirpath + '/share/ibug_to_sfm.txt')\n",
        "edgeTopology = eos.morphablemodel.load_edge_topology(dirpath + '/share/ibug_to_sfm.txt')\n",
        "modelContour = eos.fitting.ModelContour.load(dirpath + '/share/sfm_model_contours.json')\n",
        "(mesh, pose, shape_coeffs, blendshape_coeffs) = eos.fitiing.fit_shape_and_pose(morphablemodelObj, landmarks, landmarkMapper, image_width, image_height, edgeTopology, contourLandmarks, modelContour)\n",
        "isomapObj = eos.render.extract_texture(mesh, pose, image, compute_view_angle=True)\n",
        "isomapObj = cv2.transpose(isomapObj)\n",
        "\n",
        "if not os.path.exists(meshFilePath):\n",
        "  os.makedirs(meshFilePath)\n",
        "cv2.imwrite( meshFilePath + \"/\" + filename + \"_texture.isomap.png\" , isomapObj);\n",
        "eos.Core.write_obj(mesh,meshFilePath + \"/\" +filename + \".obj\")\n",
        "eos.core.write_textured_obj(mesh,meshFilePath + \"/\" + filename + \"_texture.obj\")"
      ],
      "execution_count": 0,
      "outputs": []
    },
    {
      "cell_type": "code",
      "metadata": {
        "id": "LGDk4pHgaD8W",
        "colab_type": "code",
        "colab": {}
      },
      "source": [
        "import import pywavefront\n",
        "scene = pywavefront.Wavefront(filepath)\n",
        "faceLength = getCordinates(scene,441,7,bFaceLength=True)\n",
        "forehead = getCordinates(scene,381,796)\n",
        "cheekboneWidth = getCordinates(scene,280,706)\n",
        "jawLineWidth = getCordinates(scene,338,755)\n",
        "chinwidth = getCordinates(scene,12,455)"
      ],
      "execution_count": 0,
      "outputs": []
    }
  ]
}