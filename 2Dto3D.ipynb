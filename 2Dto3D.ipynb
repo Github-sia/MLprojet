{
  "nbformat": 4,
  "nbformat_minor": 0,
  "metadata": {
    "colab": {
      "name": "2Dto3D.ipynb",
      "provenance": [],
      "collapsed_sections": [],
      "include_colab_link": true
    },
    "kernelspec": {
      "name": "python3",
      "display_name": "Python 3"
    }
  },
  "cells": [
    {
      "cell_type": "markdown",
      "metadata": {
        "id": "view-in-github",
        "colab_type": "text"
      },
      "source": [
        "<a href=\"https://colab.research.google.com/github/Github-sia/MLprojet/blob/master/2Dto3D.ipynb\" target=\"_parent\"><img src=\"https://colab.research.google.com/assets/colab-badge.svg\" alt=\"Open In Colab\"/></a>"
      ]
    },
    {
      "cell_type": "code",
      "metadata": {
        "id": "SfteT8s-XZb8",
        "colab_type": "code",
        "colab": {}
      },
      "source": [
        "\n",
        "# installing the requirement \n",
        "\n",
        "requirements = [\n",
        "    'torch',\n",
        "    'numpy',\n",
        "    'scipy>=0.17',\n",
        "    'scikit-image',\n",
        "    'opencv-python',\n",
        "    'face_alignment'\n",
        "    'tqdm',\n",
        "    'enum34;python_version<\"3.4\"'\n",
        "]\n",
        "install_requires=requirements,\n",
        "\n",
        "\n"
      ],
      "execution_count": 0,
      "outputs": []
    },
    {
      "cell_type": "code",
      "metadata": {
        "id": "SRb04MQwKQZW",
        "colab_type": "code",
        "colab": {}
      },
      "source": [
        "import io\n",
        "import os\n",
        "import re\n",
        "from setuptools import setup, find_packages\n",
        "import face_alignment\n",
        "from skimage import io\n",
        "import torch \n",
        "import subprocess\n",
        "from PIL import Image\n",
        "import matplotlib.pyplot as plt\n",
        "import pathlib\n",
        "from datetime import datetime\n",
        "import time\n",
        "import cv2\n",
        "import tensorflow as tf, sys\n",
        "import numpy as np\n",
        "import random\n",
        "import tensorflow\n",
        "\n"
      ],
      "execution_count": 0,
      "outputs": []
    },
    {
      "cell_type": "code",
      "metadata": {
        "id": "nRnowvo3htJs",
        "colab_type": "code",
        "colab": {
          "base_uri": "https://localhost:8080/",
          "height": 134
        },
        "outputId": "927679a0-53a1-42f5-ad14-47c20ba3de3b"
      },
      "source": [
        "!git clone https://github.com/Github-sia/MLprojet"
      ],
      "execution_count": 18,
      "outputs": [
        {
          "output_type": "stream",
          "text": [
            "Cloning into 'MLprojet'...\n",
            "remote: Enumerating objects: 206, done.\u001b[K\n",
            "remote: Counting objects: 100% (206/206), done.\u001b[K\n",
            "remote: Compressing objects: 100% (71/71), done.\u001b[K\n",
            "remote: Total 310 (delta 177), reused 141 (delta 135), pack-reused 104\u001b[K\n",
            "Receiving objects: 100% (310/310), 64.50 MiB | 30.37 MiB/s, done.\n",
            "Resolving deltas: 100% (200/200), done.\n"
          ],
          "name": "stdout"
        }
      ]
    },
    {
      "cell_type": "code",
      "metadata": {
        "id": "9IuBF68th8QO",
        "colab_type": "code",
        "colab": {
          "base_uri": "https://localhost:8080/",
          "height": 34
        },
        "outputId": "41e1bd79-7831-4287-b9a2-a8ee346e9e05"
      },
      "source": [
        "cd MLprojet/"
      ],
      "execution_count": 19,
      "outputs": [
        {
          "output_type": "stream",
          "text": [
            "/content/MLprojet\n"
          ],
          "name": "stdout"
        }
      ]
    },
    {
      "cell_type": "code",
      "metadata": {
        "id": "FMy9lSi_iAQ0",
        "colab_type": "code",
        "colab": {
          "base_uri": "https://localhost:8080/",
          "height": 34
        },
        "outputId": "130c9fcb-6e3d-4db5-806b-c0f378d1a625"
      },
      "source": [
        "ls"
      ],
      "execution_count": 20,
      "outputs": [
        {
          "output_type": "stream",
          "text": [
            "2Dto3D.ipynb  bface.jpg  dataimg.rar  README.md\n"
          ],
          "name": "stdout"
        }
      ]
    },
    {
      "cell_type": "code",
      "metadata": {
        "id": "djHW0w_F87gI",
        "colab_type": "code",
        "colab": {}
      },
      "source": [
        "fa = face_alignment.FaceAlignment(face_alignment.LandmarksType._2D, flip_input=False, device = 'cpu')\n",
        "input = io.imread('bface.jpg')\n",
        "preds = fa.get_landmarks(input)"
      ],
      "execution_count": 0,
      "outputs": []
    },
    {
      "cell_type": "code",
      "metadata": {
        "id": "64sI4EpVUXUp",
        "colab_type": "code",
        "colab": {}
      },
      "source": [
        "id=0\n",
        "if preds is not None:\n",
        "  if len(preds)==1:\n",
        "    id=id+1\n",
        "    f= open('landM.pts',\"w+\")\n",
        "    f.write(\"version: 1\\n\")\n",
        "    f.write(\"n_points: 68\\n\")\n",
        "    f.write(\"{\\n\")\n",
        "    for i in range (0,len(preds[0])):\n",
        "      f.write(str(preds[0][i][0]) + \" \" + str(preds[0][i][0]) + \"\\n\")\n",
        "\n",
        "    f.write(\"}\\n\")"
      ],
      "execution_count": 0,
      "outputs": []
    },
    {
      "cell_type": "code",
      "metadata": {
        "id": "CGyDBNypCBOc",
        "colab_type": "code",
        "outputId": "2f652c2f-afa5-4fb1-dc60-450607713c6d",
        "colab": {
          "base_uri": "https://localhost:8080/",
          "height": 34
        }
      },
      "source": [
        "ls\n"
      ],
      "execution_count": 0,
      "outputs": [
        {
          "output_type": "stream",
          "text": [
            "2Dto3D.ipynb  bface.jpg  \u001b[0m\u001b[01;34mdatasets\u001b[0m/  landM.pts  README.md\n"
          ],
          "name": "stdout"
        }
      ]
    },
    {
      "cell_type": "code",
      "metadata": {
        "id": "ALUKbfWgB2cV",
        "colab_type": "code",
        "colab": {}
      },
      "source": [
        "def read_pts(path):\n",
        "    \"\"\"takes as input the path to a .pts and returns a list of \n",
        "\ttuples of floats containing the points in in the form:\n",
        "\t[(x_0, y_0, z_0),\n",
        "\t (x_1, y_1, z_1),\n",
        "\t ...\n",
        "\t (x_n, y_n, z_n)]\"\"\"\n",
        "    with open(path) as f:\n",
        "        rows = [rows.strip() for rows in f]\n",
        "    \n",
        "    \"\"\"Use the curly braces to find the start and end of the point data\"\"\" \n",
        "    head = rows.index('{') + 1\n",
        "    tail = rows.index('}')\n",
        "\n",
        "    \"\"\"Select the point data split into coordinates\"\"\"\n",
        "    raw_points = rows[head:tail]\n",
        "    coords_set = [point.split() for point in raw_points]\n",
        "\n",
        "    \"\"\"Convert entries from lists of strings to tuples of floats\"\"\"\n",
        "    points = [tuple([float(point) for point in coords]) for coords in coords_set]\n",
        "    return points"
      ],
      "execution_count": 0,
      "outputs": []
    },
    {
      "cell_type": "code",
      "metadata": {
        "id": "cWfghbbjDrrL",
        "colab_type": "code",
        "colab": {}
      },
      "source": [
        "\n",
        "import sys\n",
        "dirpath='../eospy'\n",
        "sys.path.append(dirpath)\n",
        "\n",
        "import eospy.cleos\n",
        "import requests\n"
      ],
      "execution_count": 0,
      "outputs": []
    },
    {
      "cell_type": "code",
      "metadata": {
        "id": "6RTEg8_iERPJ",
        "colab_type": "code",
        "outputId": "c84b543e-f48e-4079-c74d-9a83388b362f",
        "colab": {
          "base_uri": "https://localhost:8080/",
          "height": 50
        }
      },
      "source": [
        "import eos\n",
        "!pip install morphablemodel"
      ],
      "execution_count": 0,
      "outputs": [
        {
          "output_type": "stream",
          "text": [
            "\u001b[31mERROR: Could not find a version that satisfies the requirement morphablemodel (from versions: none)\u001b[0m\n",
            "\u001b[31mERROR: No matching distribution found for morphablemodel\u001b[0m\n"
          ],
          "name": "stdout"
        }
      ]
    },
    {
      "cell_type": "code",
      "metadata": {
        "id": "JTAOHnVBWQKj",
        "colab_type": "code",
        "outputId": "e84e910d-f5ec-4f87-c70e-a0afb26ab115",
        "colab": {
          "base_uri": "https://localhost:8080/",
          "height": 34
        }
      },
      "source": [
        "\n",
        "landmark=read_pts('landM.pts')\n",
        "\n",
        "image = cv2.imread('bface.jpg', cv2.IMREAD_GRAYSCALE)\n",
        "image= (image.flatten())\n",
        "image  = image.reshape(-1, 1).T\n",
        "print(image)\n",
        "with open('output.csv', 'ab') as f:\n",
        "  np.savetxt(f, image, delimiter=\",\")"
      ],
      "execution_count": 29,
      "outputs": [
        {
          "output_type": "stream",
          "text": [
            "[[ 33  33  33 ... 155 154 154]]\n"
          ],
          "name": "stdout"
        }
      ]
    },
    {
      "cell_type": "code",
      "metadata": {
        "id": "LGDk4pHgaD8W",
        "colab_type": "code",
        "colab": {}
      },
      "source": [
        "import import pywavefront\n",
        "scene = pywavefront.Wavefront(filepath)\n",
        "faceLength = getCordinates(scene,441,7,bFaceLength=True)\n",
        "forehead = getCordinates(scene,381,796)\n",
        "cheekboneWidth = getCordinates(scene,280,706)\n",
        "jawLineWidth = getCordinates(scene,338,755)\n",
        "chinwidth = getCordinates(scene,12,455)"
      ],
      "execution_count": 0,
      "outputs": []
    },
    {
      "cell_type": "code",
      "metadata": {
        "id": "YfdlxadPbqdf",
        "colab_type": "code",
        "colab": {
          "base_uri": "https://localhost:8080/",
          "height": 126
        },
        "outputId": "4574a72e-b961-4dce-aa7c-7d963096e982"
      },
      "source": [
        "import pandas as pd\n",
        "df = pd.read_csv('output.csv',header=None)\n",
        "df.head()"
      ],
      "execution_count": 35,
      "outputs": [
        {
          "output_type": "execute_result",
          "data": {
            "text/html": [
              "<div>\n",
              "<style scoped>\n",
              "    .dataframe tbody tr th:only-of-type {\n",
              "        vertical-align: middle;\n",
              "    }\n",
              "\n",
              "    .dataframe tbody tr th {\n",
              "        vertical-align: top;\n",
              "    }\n",
              "\n",
              "    .dataframe thead th {\n",
              "        text-align: right;\n",
              "    }\n",
              "</style>\n",
              "<table border=\"1\" class=\"dataframe\">\n",
              "  <thead>\n",
              "    <tr style=\"text-align: right;\">\n",
              "      <th></th>\n",
              "      <th>0</th>\n",
              "      <th>1</th>\n",
              "      <th>2</th>\n",
              "      <th>3</th>\n",
              "      <th>4</th>\n",
              "      <th>5</th>\n",
              "      <th>6</th>\n",
              "      <th>7</th>\n",
              "      <th>8</th>\n",
              "      <th>9</th>\n",
              "      <th>10</th>\n",
              "      <th>11</th>\n",
              "      <th>12</th>\n",
              "      <th>13</th>\n",
              "      <th>14</th>\n",
              "      <th>15</th>\n",
              "      <th>16</th>\n",
              "      <th>17</th>\n",
              "      <th>18</th>\n",
              "      <th>19</th>\n",
              "      <th>20</th>\n",
              "      <th>21</th>\n",
              "      <th>22</th>\n",
              "      <th>23</th>\n",
              "      <th>24</th>\n",
              "      <th>25</th>\n",
              "      <th>26</th>\n",
              "      <th>27</th>\n",
              "      <th>28</th>\n",
              "      <th>29</th>\n",
              "      <th>30</th>\n",
              "      <th>31</th>\n",
              "      <th>32</th>\n",
              "      <th>33</th>\n",
              "      <th>34</th>\n",
              "      <th>35</th>\n",
              "      <th>36</th>\n",
              "      <th>37</th>\n",
              "      <th>38</th>\n",
              "      <th>39</th>\n",
              "      <th>...</th>\n",
              "      <th>1166360</th>\n",
              "      <th>1166361</th>\n",
              "      <th>1166362</th>\n",
              "      <th>1166363</th>\n",
              "      <th>1166364</th>\n",
              "      <th>1166365</th>\n",
              "      <th>1166366</th>\n",
              "      <th>1166367</th>\n",
              "      <th>1166368</th>\n",
              "      <th>1166369</th>\n",
              "      <th>1166370</th>\n",
              "      <th>1166371</th>\n",
              "      <th>1166372</th>\n",
              "      <th>1166373</th>\n",
              "      <th>1166374</th>\n",
              "      <th>1166375</th>\n",
              "      <th>1166376</th>\n",
              "      <th>1166377</th>\n",
              "      <th>1166378</th>\n",
              "      <th>1166379</th>\n",
              "      <th>1166380</th>\n",
              "      <th>1166381</th>\n",
              "      <th>1166382</th>\n",
              "      <th>1166383</th>\n",
              "      <th>1166384</th>\n",
              "      <th>1166385</th>\n",
              "      <th>1166386</th>\n",
              "      <th>1166387</th>\n",
              "      <th>1166388</th>\n",
              "      <th>1166389</th>\n",
              "      <th>1166390</th>\n",
              "      <th>1166391</th>\n",
              "      <th>1166392</th>\n",
              "      <th>1166393</th>\n",
              "      <th>1166394</th>\n",
              "      <th>1166395</th>\n",
              "      <th>1166396</th>\n",
              "      <th>1166397</th>\n",
              "      <th>1166398</th>\n",
              "      <th>1166399</th>\n",
              "    </tr>\n",
              "  </thead>\n",
              "  <tbody>\n",
              "    <tr>\n",
              "      <th>0</th>\n",
              "      <td>33.0</td>\n",
              "      <td>33.0</td>\n",
              "      <td>33.0</td>\n",
              "      <td>33.0</td>\n",
              "      <td>33.0</td>\n",
              "      <td>33.0</td>\n",
              "      <td>33.0</td>\n",
              "      <td>33.0</td>\n",
              "      <td>33.0</td>\n",
              "      <td>33.0</td>\n",
              "      <td>33.0</td>\n",
              "      <td>33.0</td>\n",
              "      <td>33.0</td>\n",
              "      <td>33.0</td>\n",
              "      <td>33.0</td>\n",
              "      <td>33.0</td>\n",
              "      <td>32.0</td>\n",
              "      <td>32.0</td>\n",
              "      <td>32.0</td>\n",
              "      <td>32.0</td>\n",
              "      <td>32.0</td>\n",
              "      <td>32.0</td>\n",
              "      <td>32.0</td>\n",
              "      <td>32.0</td>\n",
              "      <td>33.0</td>\n",
              "      <td>33.0</td>\n",
              "      <td>33.0</td>\n",
              "      <td>33.0</td>\n",
              "      <td>33.0</td>\n",
              "      <td>33.0</td>\n",
              "      <td>33.0</td>\n",
              "      <td>33.0</td>\n",
              "      <td>34.0</td>\n",
              "      <td>34.0</td>\n",
              "      <td>34.0</td>\n",
              "      <td>34.0</td>\n",
              "      <td>34.0</td>\n",
              "      <td>34.0</td>\n",
              "      <td>34.0</td>\n",
              "      <td>34.0</td>\n",
              "      <td>...</td>\n",
              "      <td>167.0</td>\n",
              "      <td>164.0</td>\n",
              "      <td>162.0</td>\n",
              "      <td>162.0</td>\n",
              "      <td>165.0</td>\n",
              "      <td>164.0</td>\n",
              "      <td>160.0</td>\n",
              "      <td>155.0</td>\n",
              "      <td>156.0</td>\n",
              "      <td>156.0</td>\n",
              "      <td>155.0</td>\n",
              "      <td>155.0</td>\n",
              "      <td>155.0</td>\n",
              "      <td>155.0</td>\n",
              "      <td>156.0</td>\n",
              "      <td>156.0</td>\n",
              "      <td>156.0</td>\n",
              "      <td>157.0</td>\n",
              "      <td>158.0</td>\n",
              "      <td>160.0</td>\n",
              "      <td>161.0</td>\n",
              "      <td>160.0</td>\n",
              "      <td>160.0</td>\n",
              "      <td>159.0</td>\n",
              "      <td>164.0</td>\n",
              "      <td>163.0</td>\n",
              "      <td>161.0</td>\n",
              "      <td>156.0</td>\n",
              "      <td>153.0</td>\n",
              "      <td>154.0</td>\n",
              "      <td>159.0</td>\n",
              "      <td>164.0</td>\n",
              "      <td>158.0</td>\n",
              "      <td>158.0</td>\n",
              "      <td>157.0</td>\n",
              "      <td>156.0</td>\n",
              "      <td>156.0</td>\n",
              "      <td>155.0</td>\n",
              "      <td>154.0</td>\n",
              "      <td>154.0</td>\n",
              "    </tr>\n",
              "  </tbody>\n",
              "</table>\n",
              "<p>1 rows × 1166400 columns</p>\n",
              "</div>"
            ],
            "text/plain": [
              "   0        1        2        3        ...  1166396  1166397  1166398  1166399\n",
              "0     33.0     33.0     33.0     33.0  ...    156.0    155.0    154.0    154.0\n",
              "\n",
              "[1 rows x 1166400 columns]"
            ]
          },
          "metadata": {
            "tags": []
          },
          "execution_count": 35
        }
      ]
    },
    {
      "cell_type": "code",
      "metadata": {
        "id": "t7A-syptb-pJ",
        "colab_type": "code",
        "colab": {}
      },
      "source": [
        "import numpy as np\n",
        "from sklearn.model_selection import train_test_split\n",
        "from sklearn.tree import DecisionTreeClassifier\n",
        "from sklearn.metrics import accuracy_score\n",
        "\n",
        "X = df.values[:, 3:]\n",
        "Y = df.values[:, 2]\n",
        "X_train, X_test, Y_train, Y_test = train_test_split( X, Y, test_size = 0.2, random_state = 100)\n",
        "dcTree = DecisionTreeClassifier(criterion = \"entropy\", random_state = 42, max_depth=4, min_samples_leaf=1,max_leaf_nodes=5)\n",
        "dcTree.fit(X_train, Y_train)\n",
        "\n",
        "DecisionTreeClassifier(class_weight=None, criterion='entropy', max_depth=4, max_features=Nonen max_leaf_nodes=5, min_impurity_decrease=0.0, min_impurity_split=None,min_samples_leaf=1, min_samples_split=2, min_weight_fraction_leaf=0.0, presort=False, random_state=42, splitter='best')\n",
        "Y_pred = dcTree.predict(X_test)\n",
        "print (\"Accuracy is\", accuracy_score(Y_test,Y_pred)*100)"
      ],
      "execution_count": 0,
      "outputs": []
    },
    {
      "cell_type": "code",
      "metadata": {
        "id": "sMeMN-Izis4t",
        "colab_type": "code",
        "colab": {}
      },
      "source": [
        "!pip install -q pydot\n",
        "import pands as pd\n",
        "from sklearn.model_selection import train_test_split\n",
        "\n",
        "df = pd.read_csv('drive/My Drive/HairStyleRec/femaleData/faceMeasurements.csv')\n",
        "X = df.values[:, 3:]\n",
        "Y = df.values[:, 2]\n",
        "X_train, X_test, Y_train, Y_test = train_test_split( X, Y, test_size = 0.2, random_state = 100)\n",
        "from sklearn.preprocessing import StandardScaler\n",
        "sc = StandardScaler()\n",
        "X_train = sc.fit_transform(X_train)\n",
        "X_test = sc.transform(X_test)\n",
        "from sklearn.ensemble import RandomForestClassifier\n",
        "randClassifier = RandomForestClassifier(n_estimators = 10, criterion = 'entropy', max_depth=4, random_state=42)\n",
        "randClassifier.fit(X_train,Y_train)\n",
        "\n",
        "Y_pred = randClassifier.predict(X_test)\n",
        "\n",
        "from sklearn import metrics\n",
        "print(\"Accuracy:\",metrics.accuracy_score(Y_test, Y_pred))"
      ],
      "execution_count": 0,
      "outputs": []
    },
    {
      "cell_type": "code",
      "metadata": {
        "id": "ZY113oa6k2Fd",
        "colab_type": "code",
        "colab": {}
      },
      "source": [
        "estimator = randClassifier.estimators_[2]\n",
        "featureNames=['FaceLength','Forehead', 'CheekboneWidth', 'JawLineWidth', 'ChinWidth'];\n",
        "from sklearns.tree import export_graphviz\n",
        "export_graphviz(estimator, out_file='RandomForestTree.dot', feature_names = featureNames, class_names = classNames, rounded = True, proportion = False, precision = 3, filled = True)\n",
        "\n",
        "from subprocess import call\n",
        "call(['dot', '-Tpng', 'RandomForestTree.dot', '-o', 'randomTree.png', '-Gdpi=600' ])\n",
        "\n",
        "from IPython.display import Image\n",
        "Image(filename = 'randomTree.png')\n",
        "print(\"Saved as an image \")"
      ],
      "execution_count": 0,
      "outputs": []
    },
    {
      "cell_type": "code",
      "metadata": {
        "id": "gqWBXnIZoeG3",
        "colab_type": "code",
        "colab": {}
      },
      "source": [
        "from sklearn.model_selection import train_test_split\n",
        "import pandas as pd\n",
        "from sklearn import svm\n",
        "from sklearn import metrics\n",
        "\n",
        "df = pd.read_csv('drive/My Drive/HairstyleRec/femaleData/faceMeasurements.csv')\n",
        "X = df.values[:, 3:8]\n",
        "Y = df.values[:, 2]\n",
        "X_train, X_test, Y_train, Y_test = train_test_split( X, Y, test_size = 0.2, random_state = 42)\n",
        "\n",
        "svmClassifier = svm.SVC(kernel='linear')\n",
        "svmClassifier.fit(X_train,Y_train)\n",
        "\n",
        "Y_pred = svmClassifier.predict(X_test)\n",
        "print (\"Accuracy is\", metrics.accuracy_score(Y_test,Y_pred))"
      ],
      "execution_count": 0,
      "outputs": []
    }
  ]
}