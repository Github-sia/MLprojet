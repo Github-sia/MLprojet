{
  "nbformat": 4,
  "nbformat_minor": 0,
  "metadata": {
    "colab": {
      "name": "arabic_digit.ipynb",
      "provenance": [],
      "collapsed_sections": [],
      "include_colab_link": true
    },
    "kernelspec": {
      "name": "python3",
      "display_name": "Python 3"
    }
  },
  "cells": [
    {
      "cell_type": "markdown",
      "metadata": {
        "id": "view-in-github",
        "colab_type": "text"
      },
      "source": [
        "<a href=\"https://colab.research.google.com/github/Github-sia/MLprojet/blob/master/arabic_digit.ipynb\" target=\"_parent\"><img src=\"https://colab.research.google.com/assets/colab-badge.svg\" alt=\"Open In Colab\"/></a>"
      ]
    },
    {
      "cell_type": "markdown",
      "metadata": {
        "id": "LID9tmzu33nt",
        "colab_type": "text"
      },
      "source": [
        "\n",
        "***Setup***"
      ]
    },
    {
      "cell_type": "code",
      "metadata": {
        "id": "FlWuSXEb33Xg",
        "colab_type": "code",
        "colab": {}
      },
      "source": [
        "# TensorFlow ≥2.0 is required\n",
        "import tensorflow as tf\n",
        "\n",
        "# Common imports\n",
        "import numpy as np\n",
        "import os\n",
        "import librosa\n",
        "import IPython.display as ipd\n",
        "import matplotlib.pyplot as plt\n",
        "from scipy.io import wavfile\n",
        "import warnings\n",
        "\n",
        "warnings.filterwarnings(\"ignore\")"
      ],
      "execution_count": 0,
      "outputs": []
    },
    {
      "cell_type": "markdown",
      "metadata": {
        "id": "NBb8IQyx26si",
        "colab_type": "text"
      },
      "source": [
        "**Visualizing the data**\n",
        "\n",
        "\n",
        "Before starting to implement any learning algorithm, it is always good to visualize the data if possible. In the first part, the code will load the data and display it on a 2-dimensional plot where the axes are the two exam scores, and the positive and negative examples are shown with different marker colors."
      ]
    },
    {
      "cell_type": "code",
      "metadata": {
        "id": "M8N8Wnhj2iqq",
        "colab_type": "code",
        "outputId": "fde680ce-9bca-4f57-c06d-a601fbf9f075",
        "colab": {
          "base_uri": "https://localhost:8080/",
          "height": 229
        }
      },
      "source": [
        "import urllib.request\n",
        "data_path = os.path.join(\"datasets\", \"\")\n",
        "download_path = \"https://raw.githubusercontent.com/Github-sia/MLprojet/\"\n",
        "os.makedirs(data_path, exist_ok=True)\n",
        "for filename in (\"Test_Arabic_Digit-_1_.csv\", \"Train_Arabic_Digit.csv\"):\n",
        "    print(\"Downloading\", filename)\n",
        "    url = download_path + \"datasets/\" + filename\n",
        "    urllib.request.urlretrieve(url, data_path + filename)"
      ],
      "execution_count": 0,
      "outputs": [
        {
          "output_type": "error",
          "ename": "NameError",
          "evalue": "ignored",
          "traceback": [
            "\u001b[0;31m---------------------------------------------------------------------------\u001b[0m",
            "\u001b[0;31mNameError\u001b[0m                                 Traceback (most recent call last)",
            "\u001b[0;32m<ipython-input-23-8758d04f5625>\u001b[0m in \u001b[0;36m<module>\u001b[0;34m()\u001b[0m\n\u001b[1;32m      1\u001b[0m \u001b[0;32mimport\u001b[0m \u001b[0murllib\u001b[0m\u001b[0;34m.\u001b[0m\u001b[0mrequest\u001b[0m\u001b[0;34m\u001b[0m\u001b[0;34m\u001b[0m\u001b[0m\n\u001b[0;32m----> 2\u001b[0;31m \u001b[0mdata_path\u001b[0m \u001b[0;34m=\u001b[0m \u001b[0mos\u001b[0m\u001b[0;34m.\u001b[0m\u001b[0mpath\u001b[0m\u001b[0;34m.\u001b[0m\u001b[0mjoin\u001b[0m\u001b[0;34m(\u001b[0m\u001b[0;34m\"datasets\"\u001b[0m\u001b[0;34m,\u001b[0m \u001b[0;34m\"\"\u001b[0m\u001b[0;34m)\u001b[0m\u001b[0;34m\u001b[0m\u001b[0;34m\u001b[0m\u001b[0m\n\u001b[0m\u001b[1;32m      3\u001b[0m \u001b[0mdownload_path\u001b[0m \u001b[0;34m=\u001b[0m \u001b[0;34m\"https://raw.githubusercontent.com/Github-sia/MLprojet/\"\u001b[0m\u001b[0;34m\u001b[0m\u001b[0;34m\u001b[0m\u001b[0m\n\u001b[1;32m      4\u001b[0m \u001b[0mos\u001b[0m\u001b[0;34m.\u001b[0m\u001b[0mmakedirs\u001b[0m\u001b[0;34m(\u001b[0m\u001b[0mdata_path\u001b[0m\u001b[0;34m,\u001b[0m \u001b[0mexist_ok\u001b[0m\u001b[0;34m=\u001b[0m\u001b[0;32mTrue\u001b[0m\u001b[0;34m)\u001b[0m\u001b[0;34m\u001b[0m\u001b[0;34m\u001b[0m\u001b[0m\n\u001b[1;32m      5\u001b[0m \u001b[0;32mfor\u001b[0m \u001b[0mfilename\u001b[0m \u001b[0;32min\u001b[0m \u001b[0;34m(\u001b[0m\u001b[0;34m\"Test_Arabic_Digit-_1_.csv\"\u001b[0m\u001b[0;34m,\u001b[0m \u001b[0;34m\"Train_Arabic_Digit.csv\"\u001b[0m\u001b[0;34m)\u001b[0m\u001b[0;34m:\u001b[0m\u001b[0;34m\u001b[0m\u001b[0;34m\u001b[0m\u001b[0m\n",
            "\u001b[0;31mNameError\u001b[0m: name 'os' is not defined"
          ]
        }
      ]
    },
    {
      "cell_type": "code",
      "metadata": {
        "id": "iO8bmmT-26Ob",
        "colab_type": "code",
        "colab": {}
      },
      "source": [
        ""
      ],
      "execution_count": 0,
      "outputs": []
    },
    {
      "cell_type": "code",
      "metadata": {
        "id": "VIt2Ej_f-lUp",
        "colab_type": "code",
        "colab": {}
      },
      "source": [
        "from keras.layers import Dense, Dropout, Flatten, Conv1D, Input, MaxPooling1D\n",
        "from keras.models import Model\n",
        "from keras.callbacks import EarlyStopping, ModelCheckpoint\n",
        "from keras import backend as K\n",
        "K.clear_session()\n",
        "\n",
        "inputs = Input(shape=(8000,1))\n",
        "\n",
        "#First Conv1D layer\n",
        "conv = Conv1D(8,13, padding='valid', activation='relu', strides=1)(inputs)\n",
        "conv = MaxPooling1D(3)(conv)\n",
        "conv = Dropout(0.3)(conv)\n",
        "\n",
        "#Second Conv1D layer\n",
        "conv = Conv1D(16, 11, padding='valid', activation='relu', strides=1)(conv)\n",
        "conv = MaxPooling1D(3)(conv)\n",
        "conv = Dropout(0.3)(conv)\n",
        "\n",
        "#Third Conv1D layer\n",
        "conv = Conv1D(32, 9, padding='valid', activation='relu', strides=1)(conv)\n",
        "conv = MaxPooling1D(3)(conv)\n",
        "conv = Dropout(0.3)(conv)\n",
        "\n",
        "#Fourth Conv1D layer\n",
        "conv = Conv1D(64, 7, padding='valid', activation='relu', strides=1)(conv)\n",
        "conv = MaxPooling1D(3)(conv)\n",
        "conv = Dropout(0.3)(conv)\n",
        "\n",
        "#Flatten layer\n",
        "conv = Flatten()(conv)\n",
        "\n",
        "#Dense Layer 1\n",
        "conv = Dense(256, activation='relu')(conv)\n",
        "conv = Dropout(0.3)(conv)\n",
        "\n",
        "#Dense Layer 2\n",
        "conv = Dense(128, activation='relu')(conv)\n",
        "conv = Dropout(0.3)(conv)\n",
        "\n",
        "outputs = Dense(len(labels), activation='softmax')(conv)\n",
        "\n",
        "model = Model(inputs, outputs)\n",
        "model.summary()"
      ],
      "execution_count": 0,
      "outputs": []
    },
    {
      "cell_type": "code",
      "metadata": {
        "id": "0moy0mqY-lTJ",
        "colab_type": "code",
        "colab": {}
      },
      "source": [
        "model.compile(loss='categorical_crossentropy',optimizer='adam',metrics=['accuracy'])"
      ],
      "execution_count": 0,
      "outputs": []
    },
    {
      "cell_type": "code",
      "metadata": {
        "id": "cnC9pV-9-lPE",
        "colab_type": "code",
        "colab": {}
      },
      "source": [
        "es = EarlyStopping(monitor='val_loss', mode='min', verbose=1, patience=10, min_delta=0.0001) \n",
        "mc = ModelCheckpoint('best_model.hdf5', monitor='val_acc', verbose=1, save_best_only=True, mode='max')"
      ],
      "execution_count": 0,
      "outputs": []
    },
    {
      "cell_type": "code",
      "metadata": {
        "id": "iCsEA3FF-lKb",
        "colab_type": "code",
        "colab": {}
      },
      "source": [
        "history=model.fit(x_tr, y_tr ,epochs=100, callbacks=[es,mc], batch_size=32, validation_data=(x_val,y_val))"
      ],
      "execution_count": 0,
      "outputs": []
    },
    {
      "cell_type": "code",
      "metadata": {
        "id": "DY6-HGFn-lFb",
        "colab_type": "code",
        "colab": {}
      },
      "source": [
        "from matplotlib import pyplot\n",
        "pyplot.plot(history.history['loss'], label='train')\n",
        "pyplot.plot(history.history['val_loss'], label='test')\n",
        "pyplot.legend()\n",
        "pyplot.show()"
      ],
      "execution_count": 0,
      "outputs": []
    },
    {
      "cell_type": "code",
      "metadata": {
        "id": "Tke1dqP7-lDH",
        "colab_type": "code",
        "colab": {}
      },
      "source": [
        "from keras.models import load_model\n",
        "model=load_model('best_model.hdf5')"
      ],
      "execution_count": 0,
      "outputs": []
    },
    {
      "cell_type": "code",
      "metadata": {
        "id": "51DrQI2bAD5N",
        "colab_type": "code",
        "colab": {}
      },
      "source": [
        "def predict(audio):\n",
        "    prob=model.predict(audio.reshape(1,8000,1))\n",
        "    index=np.argmax(prob[0])\n",
        "    return classes[index]"
      ],
      "execution_count": 0,
      "outputs": []
    },
    {
      "cell_type": "code",
      "metadata": {
        "id": "b6afDOibAEDQ",
        "colab_type": "code",
        "colab": {}
      },
      "source": [
        "import random\n",
        "index=random.randint(0,len(x_val)-1)\n",
        "samples=x_val[index].ravel()\n",
        "print(\"Audio:\",classes[np.argmax(y_val[index])])\n",
        "ipd.Audio(samples, rate=8000)"
      ],
      "execution_count": 0,
      "outputs": []
    },
    {
      "cell_type": "code",
      "metadata": {
        "id": "fDDLmSxbAEMb",
        "colab_type": "code",
        "colab": {}
      },
      "source": [
        "print(\"Text:\",predict(samples))"
      ],
      "execution_count": 0,
      "outputs": []
    },
    {
      "cell_type": "code",
      "metadata": {
        "id": "GoziZ5K1APPB",
        "colab_type": "code",
        "colab": {}
      },
      "source": [
        "import sounddevice as sd\n",
        "import soundfile as sf\n",
        "\n",
        "samplerate = 16000  \n",
        "duration = 1 # seconds\n",
        "filename = 'yes.wav'\n",
        "print(\"start\")\n",
        "mydata = sd.rec(int(samplerate * duration), samplerate=samplerate,\n",
        "    channels=1, blocking=True)\n",
        "print(\"end\")\n",
        "sd.wait()\n",
        "sf.write(filename, mydata, samplerate)"
      ],
      "execution_count": 0,
      "outputs": []
    },
    {
      "cell_type": "code",
      "metadata": {
        "id": "PxK_4sNjAPe7",
        "colab_type": "code",
        "colab": {}
      },
      "source": [
        "os.listdir('../input/voice-commands/prateek_voice_v2')"
      ],
      "execution_count": 0,
      "outputs": []
    },
    {
      "cell_type": "code",
      "metadata": {
        "id": "-UBI9E4JAW6s",
        "colab_type": "code",
        "colab": {}
      },
      "source": [
        "filepath='../input/voice-commands/prateek_voice_v2'"
      ],
      "execution_count": 0,
      "outputs": []
    },
    {
      "cell_type": "code",
      "metadata": {
        "id": "59OHiDwRAchs",
        "colab_type": "code",
        "colab": {}
      },
      "source": [
        "samples, sample_rate = librosa.load(filepath + '/' + 'stop.wav', sr = 16000)\n",
        "samples = librosa.resample(samples, sample_rate, 8000)\n",
        "ipd.Audio(samples,rate=8000)"
      ],
      "execution_count": 0,
      "outputs": []
    },
    {
      "cell_type": "code",
      "metadata": {
        "id": "XatmU0TvAfr3",
        "colab_type": "code",
        "colab": {}
      },
      "source": [
        "predict(samples)"
      ],
      "execution_count": 0,
      "outputs": []
    }
  ]
}